{
  "nbformat": 4,
  "nbformat_minor": 0,
  "metadata": {
    "colab": {
      "provenance": [],
      "collapsed_sections": [
        "PLLSM6AJG-IW",
        "6aekJFpcON-f"
      ],
      "include_colab_link": true
    },
    "kernelspec": {
      "name": "python3",
      "display_name": "Python 3"
    },
    "language_info": {
      "name": "python"
    }
  },
  "cells": [
    {
      "cell_type": "markdown",
      "metadata": {
        "id": "view-in-github",
        "colab_type": "text"
      },
      "source": [
        "<a href=\"https://colab.research.google.com/github/raistra/Kelompok-E-Data-Mining-B/blob/main/Tugas_1_Data_Mining.ipynb\" target=\"_parent\"><img src=\"https://colab.research.google.com/assets/colab-badge.svg\" alt=\"Open In Colab\"/></a>"
      ]
    },
    {
      "cell_type": "code",
      "execution_count": null,
      "metadata": {
        "id": "t6yAXziU94Sl"
      },
      "outputs": [],
      "source": [
        "import numpy as np\n",
        "import pandas as pd\n",
        "import seaborn as sns\n",
        "import matplotlib.pyplot as plt\n",
        "from pandas import read_csv"
      ]
    },
    {
      "cell_type": "code",
      "source": [
        "# Loading Data:\n",
        "try: # Running Locally, yakinkan \"file_\" berada di folder \"data\"\n",
        "    jakarta = pd.read_csv(\"data/jakarta.csv\", low_memory = False, encoding='utf8')\n",
        "    depok = pd.read_csv(\"data/depok.csv\", low_memory = False, encoding='utf8')\n",
        "    bogor = pd.read_csv(\"data/bogor.csv\", low_memory = False, encoding='utf8')\n",
        "    tangerang = pd.read_csv(\"data/tangerang.csv\", low_memory = False, encoding='utf8')\n",
        "    bekasi = pd.read_csv(\"data/bekasi.csv\", low_memory = False, encoding='utf8')    \n",
        "except: # Running in Google Colab\n",
        "    !mkdir data\n",
        "    !wget -P data/ https://raw.githubusercontent.com/taufiksutanto/ADM-Case-01-EDA/master/data/jakarta.csv\n",
        "    !wget -P data/ https://raw.githubusercontent.com/taufiksutanto/ADM-Case-01-EDA/master/data/depok.csv\n",
        "    !wget -P data/ https://raw.githubusercontent.com/taufiksutanto/ADM-Case-01-EDA/master/data/bogor.csv\n",
        "    !wget -P data/ https://raw.githubusercontent.com/taufiksutanto/ADM-Case-01-EDA/master/data/tangerang.csv\n",
        "    !wget -P data/ https://raw.githubusercontent.com/taufiksutanto/ADM-Case-01-EDA/master/data/bekasi.csv\n",
        "    jakarta = pd.read_csv(\"data/jakarta.csv\", low_memory = False, encoding='utf8')\n",
        "    depok = pd.read_csv(\"data/depok.csv\", low_memory = False, encoding='utf8')\n",
        "    bekasi = pd.read_csv(\"data/bogor.csv\", low_memory = False, encoding='utf8')\n",
        "    tangerang = pd.read_csv(\"data/tangerang.csv\", low_memory = False, encoding='utf8')\n",
        "    bekasi = pd.read_csv(\"data/bekasi.csv\", low_memory = False, encoding='utf8')\n",
        "    \n",
        "jakarta.shape, depok.shape, bekasi.shape, tangerang.shape, bekasi.shape"
      ],
      "metadata": {
        "id": "kx_JxOqqFdlc",
        "colab": {
          "base_uri": "https://localhost:8080/"
        },
        "outputId": "c20f8cbb-0b6d-455d-ffd0-85fb17ace869"
      },
      "execution_count": null,
      "outputs": [
        {
          "output_type": "execute_result",
          "data": {
            "text/plain": [
              "((1024, 26), (998, 26), (992, 26), (128, 26), (992, 26))"
            ]
          },
          "metadata": {},
          "execution_count": 16
        }
      ]
    },
    {
      "cell_type": "markdown",
      "source": [
        "Created_at: Tanggal dimana iklan rumah dibuat\n",
        "\n",
        "LT : Luas Tanah properti yang ditawarkan\n",
        "\n",
        "LB : Luas Bangunan properti yang ditawarkan\n",
        "\n",
        "KT : Jumlah Kamar Tidur properti yang ditawarkan\n",
        "\n",
        "KM : Jumlah Kamar Mandi properti yang ditawarkan\n",
        "\n",
        "Garasi : Jumlah Kapasitas Garasi di properti yang ditawarkan\n",
        "\n",
        "Carport : Kapasitas Carport di properti yang ditawarkan\n",
        "\n",
        "Lokasi : Detail lokasi properti yang ditawarkan\n",
        "\n",
        "Sertifikat: Jenis sertifikat properti yang ditawarkan\n",
        "\n",
        "Listrik : Daya listrik dari properti yang ditawarkan\n",
        "\n",
        "Hadap : Keterangan property yang ditawarkan menghadap ke arah mana\n",
        "\n",
        "Harga : Harga property yang ditawarkan dalam Rupiah\n",
        "\n",
        "URL : Alamat tautan (link) property yang ditawarkan.\n",
        "\n",
        "Deskripsi : Deskripsi iklan property yang ditawarkan."
      ],
      "metadata": {
        "id": "Z_TjiqExJ56Y"
      }
    },
    {
      "cell_type": "markdown",
      "source": [
        "## **1. Kualitas Data**"
      ],
      "metadata": {
        "id": "_N7LrdyBFhUh"
      }
    },
    {
      "cell_type": "markdown",
      "source": [
        "### Tangerang"
      ],
      "metadata": {
        "id": "PLLSM6AJG-IW"
      }
    },
    {
      "cell_type": "code",
      "source": [
        "tangerang.head()"
      ],
      "metadata": {
        "id": "OAm6wo7HI1FM"
      },
      "execution_count": null,
      "outputs": []
    },
    {
      "cell_type": "code",
      "source": [
        "#Informasi dataset\n",
        "tangerang.info()"
      ],
      "metadata": {
        "id": "SUK33t2KHWru"
      },
      "execution_count": null,
      "outputs": []
    },
    {
      "cell_type": "code",
      "source": [
        "#Memeriksa Missing-Value pada Data \n",
        "print('Jumlah Missing-Value pada Setiap Kolom:')\n",
        "print(tangerang.isnull().sum())"
      ],
      "metadata": {
        "id": "FKZtgnzMI6mA"
      },
      "execution_count": null,
      "outputs": []
    },
    {
      "cell_type": "code",
      "source": [
        "#Menghapus kolom Unnamed karena berisi NaN\n",
        "tangerang = tangerang.drop(tangerang.columns[[14, 15, 16, 17, 18, 19, 20, 21, 22, 23, 24, 25]], axis=1)"
      ],
      "metadata": {
        "id": "qnERDJdaHorf"
      },
      "execution_count": null,
      "outputs": []
    },
    {
      "cell_type": "code",
      "source": [
        "#Menghapus Nilai NaN\n",
        "tangerang = tangerang.dropna()\n",
        "tangerang.head()"
      ],
      "metadata": {
        "id": "NWDEglDkILJU"
      },
      "execution_count": null,
      "outputs": []
    },
    {
      "cell_type": "code",
      "source": [
        "print('\\nJumlah Missing-Value Total:')\n",
        "print(tangerang.isnull().sum().sum())"
      ],
      "metadata": {
        "id": "3VZ6Q-RZJOdU"
      },
      "execution_count": null,
      "outputs": []
    },
    {
      "cell_type": "code",
      "source": [
        "tangerang.duplicated().sum()"
      ],
      "metadata": {
        "id": "1d1vktAgKjZp"
      },
      "execution_count": null,
      "outputs": []
    },
    {
      "cell_type": "code",
      "source": [
        "tangerang.info()"
      ],
      "metadata": {
        "id": "h6WBMbedKwnG"
      },
      "execution_count": null,
      "outputs": []
    },
    {
      "cell_type": "code",
      "source": [],
      "metadata": {
        "id": "8AhxE-OoNcQp"
      },
      "execution_count": null,
      "outputs": []
    },
    {
      "cell_type": "markdown",
      "source": [
        "### Jakarta"
      ],
      "metadata": {
        "id": "_L3JgNpXL8e1"
      }
    },
    {
      "cell_type": "code",
      "source": [
        "jakarta.head()"
      ],
      "metadata": {
        "id": "5bujx3TYLvZo"
      },
      "execution_count": null,
      "outputs": []
    },
    {
      "cell_type": "code",
      "source": [
        "jakarta.info()"
      ],
      "metadata": {
        "id": "5LxzTqZJMMWq"
      },
      "execution_count": null,
      "outputs": []
    },
    {
      "cell_type": "code",
      "source": [
        "#Missing Value\n",
        "print('Jumlah Missing-Value pada Setiap Kolom:')\n",
        "print(jakarta.isnull().sum())\n",
        "\n",
        "print('\\nJumlah Missing-Value Total:')\n",
        "print(jakarta.isnull().sum().sum())"
      ],
      "metadata": {
        "id": "PWB0ZCM2Mhj2"
      },
      "execution_count": null,
      "outputs": []
    },
    {
      "cell_type": "code",
      "source": [
        "#Menghapus Nilai NaN\n",
        "jakarta = jakarta.dropna()\n",
        "\n",
        "#cek ulang\n",
        "print('\\nJumlah Missing-Value Total:')\n",
        "print(jakarta.isnull().sum().sum())"
      ],
      "metadata": {
        "id": "EP9xwC1JMxZZ"
      },
      "execution_count": null,
      "outputs": []
    },
    {
      "cell_type": "code",
      "source": [
        "#cek duplikasi data\n",
        "jakarta.duplicated().sum()"
      ],
      "metadata": {
        "id": "P2UwixNcNnmk"
      },
      "execution_count": null,
      "outputs": []
    },
    {
      "cell_type": "code",
      "source": [
        "#Mengubah Tipe Variabel\n",
        "jakarta['created_at'] = jakarta['created_at'].astype('category')\n",
        "jakarta['lokasi'] = jakarta['lokasi'].astype('category')\n",
        "jakarta['sertifikat'] = jakarta['sertifikat'].astype('category')\n",
        "jakarta['hadap'] = jakarta['hadap'].astype('category')\n",
        "jakarta['URL'] = jakarta['URL'].astype('category')\n",
        "jakarta['deskirpsi'] = jakarta['deskripsi'].astype('category')\n",
        "jakarta.dtypes"
      ],
      "metadata": {
        "id": "WTKSJeWdNqMu"
      },
      "execution_count": null,
      "outputs": []
    },
    {
      "cell_type": "markdown",
      "source": [
        "##Depok"
      ],
      "metadata": {
        "id": "6aekJFpcON-f"
      }
    },
    {
      "cell_type": "code",
      "source": [
        "depok.head()"
      ],
      "metadata": {
        "id": "yZmZfox7OQiJ"
      },
      "execution_count": null,
      "outputs": []
    },
    {
      "cell_type": "code",
      "source": [
        "depok.info()"
      ],
      "metadata": {
        "id": "lvUSri5BPBfH"
      },
      "execution_count": null,
      "outputs": []
    },
    {
      "cell_type": "code",
      "source": [
        "#Missing Value\n",
        "print('Jumlah Missing-Value pada Setiap Kolom:')\n",
        "print(depok.isnull().sum())\n",
        "\n",
        "print('\\nJumlah Missing-Value Total:')\n",
        "print(depok.isnull().sum().sum())"
      ],
      "metadata": {
        "id": "zXclW2SiPJVJ"
      },
      "execution_count": null,
      "outputs": []
    },
    {
      "cell_type": "code",
      "source": [
        "#Menghapus Nilai NaN\n",
        "depok = depok.dropna()\n",
        "\n",
        "#cek ulang\n",
        "print('\\nJumlah Missing-Value Total:')\n",
        "print(depok.isnull().sum().sum())"
      ],
      "metadata": {
        "id": "pTnyP4NgPPUQ"
      },
      "execution_count": null,
      "outputs": []
    },
    {
      "cell_type": "code",
      "source": [
        "#cek duplikasi data\n",
        "depok.duplicated().sum()"
      ],
      "metadata": {
        "id": "MbE6j-EePaLn"
      },
      "execution_count": null,
      "outputs": []
    },
    {
      "cell_type": "code",
      "source": [
        "#Mengubah Tipe Variabel\n",
        "depok['created_at'] = depok['created_at'].astype('category')\n",
        "depok['lokasi'] = depok['lokasi'].astype('category')\n",
        "depok['sertifikat'] = depok['sertifikat'].astype('category')\n",
        "depok['hadap'] = depok['hadap'].astype('category')\n",
        "depok['URL'] = depok['URL'].astype('category')\n",
        "depok['deskirpsi'] = depok['deskripsi'].astype('category')\n",
        "depok.dtypes"
      ],
      "metadata": {
        "id": "Gz1cn7bmPzcI"
      },
      "execution_count": null,
      "outputs": []
    },
    {
      "cell_type": "markdown",
      "source": [
        "##Bekasi"
      ],
      "metadata": {
        "id": "iP4wqplGWzrl"
      }
    },
    {
      "cell_type": "code",
      "source": [
        "bekasi.head()"
      ],
      "metadata": {
        "colab": {
          "base_uri": "https://localhost:8080/",
          "height": 404
        },
        "id": "j7yOO6YyW6F-",
        "outputId": "c30110cf-e0cb-430f-825b-6c22ccd0f4fd"
      },
      "execution_count": null,
      "outputs": [
        {
          "output_type": "execute_result",
          "data": {
            "text/plain": [
              "   created_at     LT     LB   KT   KM  garasi  carport            lokasi  \\\n",
              "0  08-12-2021   71.0   43.0  2.0  1.0     NaN      1.0  Kabupaten Bekasi   \n",
              "1  08-12-2021   59.0   60.0  2.0  1.0     NaN      1.0  Kabupaten Bekasi   \n",
              "2  08-12-2021  124.0   95.0  2.0  1.0     NaN      1.0  Kabupaten Bekasi   \n",
              "3  08-12-2021  144.0  100.0  2.0  1.0     NaN      1.0  Kabupaten Bekasi   \n",
              "4  08-12-2021  108.0  100.0  3.0  2.0     NaN      1.0  Kabupaten Bekasi   \n",
              "\n",
              "  sertifikat  listrik  ... Unnamed: 16  Unnamed: 17 Unnamed: 18 Unnamed: 19  \\\n",
              "0        SHM   1300.0  ...         NaN          NaN         NaN         NaN   \n",
              "1        SHM      NaN  ...         NaN          NaN         NaN         NaN   \n",
              "2        SHM      NaN  ...         NaN          NaN         NaN         NaN   \n",
              "3        SHM   2200.0  ...         NaN          NaN         NaN         NaN   \n",
              "4        SHM   2200.0  ...         NaN          NaN         NaN         NaN   \n",
              "\n",
              "   Unnamed: 20  Unnamed: 21  Unnamed: 22  Unnamed: 23  Unnamed: 24  \\\n",
              "0          NaN          NaN          NaN          NaN          NaN   \n",
              "1          NaN          NaN          NaN          NaN          NaN   \n",
              "2          NaN          NaN          NaN          NaN          NaN   \n",
              "3          NaN          NaN          NaN          NaN          NaN   \n",
              "4          NaN          NaN          NaN          NaN          NaN   \n",
              "\n",
              "   Unnamed: 25  \n",
              "0          NaN  \n",
              "1          NaN  \n",
              "2          NaN  \n",
              "3          NaN  \n",
              "4          NaN  \n",
              "\n",
              "[5 rows x 26 columns]"
            ],
            "text/html": [
              "\n",
              "  <div id=\"df-39336dfb-0eec-459f-bf95-5e0afadcfa4f\">\n",
              "    <div class=\"colab-df-container\">\n",
              "      <div>\n",
              "<style scoped>\n",
              "    .dataframe tbody tr th:only-of-type {\n",
              "        vertical-align: middle;\n",
              "    }\n",
              "\n",
              "    .dataframe tbody tr th {\n",
              "        vertical-align: top;\n",
              "    }\n",
              "\n",
              "    .dataframe thead th {\n",
              "        text-align: right;\n",
              "    }\n",
              "</style>\n",
              "<table border=\"1\" class=\"dataframe\">\n",
              "  <thead>\n",
              "    <tr style=\"text-align: right;\">\n",
              "      <th></th>\n",
              "      <th>created_at</th>\n",
              "      <th>LT</th>\n",
              "      <th>LB</th>\n",
              "      <th>KT</th>\n",
              "      <th>KM</th>\n",
              "      <th>garasi</th>\n",
              "      <th>carport</th>\n",
              "      <th>lokasi</th>\n",
              "      <th>sertifikat</th>\n",
              "      <th>listrik</th>\n",
              "      <th>...</th>\n",
              "      <th>Unnamed: 16</th>\n",
              "      <th>Unnamed: 17</th>\n",
              "      <th>Unnamed: 18</th>\n",
              "      <th>Unnamed: 19</th>\n",
              "      <th>Unnamed: 20</th>\n",
              "      <th>Unnamed: 21</th>\n",
              "      <th>Unnamed: 22</th>\n",
              "      <th>Unnamed: 23</th>\n",
              "      <th>Unnamed: 24</th>\n",
              "      <th>Unnamed: 25</th>\n",
              "    </tr>\n",
              "  </thead>\n",
              "  <tbody>\n",
              "    <tr>\n",
              "      <th>0</th>\n",
              "      <td>08-12-2021</td>\n",
              "      <td>71.0</td>\n",
              "      <td>43.0</td>\n",
              "      <td>2.0</td>\n",
              "      <td>1.0</td>\n",
              "      <td>NaN</td>\n",
              "      <td>1.0</td>\n",
              "      <td>Kabupaten Bekasi</td>\n",
              "      <td>SHM</td>\n",
              "      <td>1300.0</td>\n",
              "      <td>...</td>\n",
              "      <td>NaN</td>\n",
              "      <td>NaN</td>\n",
              "      <td>NaN</td>\n",
              "      <td>NaN</td>\n",
              "      <td>NaN</td>\n",
              "      <td>NaN</td>\n",
              "      <td>NaN</td>\n",
              "      <td>NaN</td>\n",
              "      <td>NaN</td>\n",
              "      <td>NaN</td>\n",
              "    </tr>\n",
              "    <tr>\n",
              "      <th>1</th>\n",
              "      <td>08-12-2021</td>\n",
              "      <td>59.0</td>\n",
              "      <td>60.0</td>\n",
              "      <td>2.0</td>\n",
              "      <td>1.0</td>\n",
              "      <td>NaN</td>\n",
              "      <td>1.0</td>\n",
              "      <td>Kabupaten Bekasi</td>\n",
              "      <td>SHM</td>\n",
              "      <td>NaN</td>\n",
              "      <td>...</td>\n",
              "      <td>NaN</td>\n",
              "      <td>NaN</td>\n",
              "      <td>NaN</td>\n",
              "      <td>NaN</td>\n",
              "      <td>NaN</td>\n",
              "      <td>NaN</td>\n",
              "      <td>NaN</td>\n",
              "      <td>NaN</td>\n",
              "      <td>NaN</td>\n",
              "      <td>NaN</td>\n",
              "    </tr>\n",
              "    <tr>\n",
              "      <th>2</th>\n",
              "      <td>08-12-2021</td>\n",
              "      <td>124.0</td>\n",
              "      <td>95.0</td>\n",
              "      <td>2.0</td>\n",
              "      <td>1.0</td>\n",
              "      <td>NaN</td>\n",
              "      <td>1.0</td>\n",
              "      <td>Kabupaten Bekasi</td>\n",
              "      <td>SHM</td>\n",
              "      <td>NaN</td>\n",
              "      <td>...</td>\n",
              "      <td>NaN</td>\n",
              "      <td>NaN</td>\n",
              "      <td>NaN</td>\n",
              "      <td>NaN</td>\n",
              "      <td>NaN</td>\n",
              "      <td>NaN</td>\n",
              "      <td>NaN</td>\n",
              "      <td>NaN</td>\n",
              "      <td>NaN</td>\n",
              "      <td>NaN</td>\n",
              "    </tr>\n",
              "    <tr>\n",
              "      <th>3</th>\n",
              "      <td>08-12-2021</td>\n",
              "      <td>144.0</td>\n",
              "      <td>100.0</td>\n",
              "      <td>2.0</td>\n",
              "      <td>1.0</td>\n",
              "      <td>NaN</td>\n",
              "      <td>1.0</td>\n",
              "      <td>Kabupaten Bekasi</td>\n",
              "      <td>SHM</td>\n",
              "      <td>2200.0</td>\n",
              "      <td>...</td>\n",
              "      <td>NaN</td>\n",
              "      <td>NaN</td>\n",
              "      <td>NaN</td>\n",
              "      <td>NaN</td>\n",
              "      <td>NaN</td>\n",
              "      <td>NaN</td>\n",
              "      <td>NaN</td>\n",
              "      <td>NaN</td>\n",
              "      <td>NaN</td>\n",
              "      <td>NaN</td>\n",
              "    </tr>\n",
              "    <tr>\n",
              "      <th>4</th>\n",
              "      <td>08-12-2021</td>\n",
              "      <td>108.0</td>\n",
              "      <td>100.0</td>\n",
              "      <td>3.0</td>\n",
              "      <td>2.0</td>\n",
              "      <td>NaN</td>\n",
              "      <td>1.0</td>\n",
              "      <td>Kabupaten Bekasi</td>\n",
              "      <td>SHM</td>\n",
              "      <td>2200.0</td>\n",
              "      <td>...</td>\n",
              "      <td>NaN</td>\n",
              "      <td>NaN</td>\n",
              "      <td>NaN</td>\n",
              "      <td>NaN</td>\n",
              "      <td>NaN</td>\n",
              "      <td>NaN</td>\n",
              "      <td>NaN</td>\n",
              "      <td>NaN</td>\n",
              "      <td>NaN</td>\n",
              "      <td>NaN</td>\n",
              "    </tr>\n",
              "  </tbody>\n",
              "</table>\n",
              "<p>5 rows × 26 columns</p>\n",
              "</div>\n",
              "      <button class=\"colab-df-convert\" onclick=\"convertToInteractive('df-39336dfb-0eec-459f-bf95-5e0afadcfa4f')\"\n",
              "              title=\"Convert this dataframe to an interactive table.\"\n",
              "              style=\"display:none;\">\n",
              "        \n",
              "  <svg xmlns=\"http://www.w3.org/2000/svg\" height=\"24px\"viewBox=\"0 0 24 24\"\n",
              "       width=\"24px\">\n",
              "    <path d=\"M0 0h24v24H0V0z\" fill=\"none\"/>\n",
              "    <path d=\"M18.56 5.44l.94 2.06.94-2.06 2.06-.94-2.06-.94-.94-2.06-.94 2.06-2.06.94zm-11 1L8.5 8.5l.94-2.06 2.06-.94-2.06-.94L8.5 2.5l-.94 2.06-2.06.94zm10 10l.94 2.06.94-2.06 2.06-.94-2.06-.94-.94-2.06-.94 2.06-2.06.94z\"/><path d=\"M17.41 7.96l-1.37-1.37c-.4-.4-.92-.59-1.43-.59-.52 0-1.04.2-1.43.59L10.3 9.45l-7.72 7.72c-.78.78-.78 2.05 0 2.83L4 21.41c.39.39.9.59 1.41.59.51 0 1.02-.2 1.41-.59l7.78-7.78 2.81-2.81c.8-.78.8-2.07 0-2.86zM5.41 20L4 18.59l7.72-7.72 1.47 1.35L5.41 20z\"/>\n",
              "  </svg>\n",
              "      </button>\n",
              "      \n",
              "  <style>\n",
              "    .colab-df-container {\n",
              "      display:flex;\n",
              "      flex-wrap:wrap;\n",
              "      gap: 12px;\n",
              "    }\n",
              "\n",
              "    .colab-df-convert {\n",
              "      background-color: #E8F0FE;\n",
              "      border: none;\n",
              "      border-radius: 50%;\n",
              "      cursor: pointer;\n",
              "      display: none;\n",
              "      fill: #1967D2;\n",
              "      height: 32px;\n",
              "      padding: 0 0 0 0;\n",
              "      width: 32px;\n",
              "    }\n",
              "\n",
              "    .colab-df-convert:hover {\n",
              "      background-color: #E2EBFA;\n",
              "      box-shadow: 0px 1px 2px rgba(60, 64, 67, 0.3), 0px 1px 3px 1px rgba(60, 64, 67, 0.15);\n",
              "      fill: #174EA6;\n",
              "    }\n",
              "\n",
              "    [theme=dark] .colab-df-convert {\n",
              "      background-color: #3B4455;\n",
              "      fill: #D2E3FC;\n",
              "    }\n",
              "\n",
              "    [theme=dark] .colab-df-convert:hover {\n",
              "      background-color: #434B5C;\n",
              "      box-shadow: 0px 1px 3px 1px rgba(0, 0, 0, 0.15);\n",
              "      filter: drop-shadow(0px 1px 2px rgba(0, 0, 0, 0.3));\n",
              "      fill: #FFFFFF;\n",
              "    }\n",
              "  </style>\n",
              "\n",
              "      <script>\n",
              "        const buttonEl =\n",
              "          document.querySelector('#df-39336dfb-0eec-459f-bf95-5e0afadcfa4f button.colab-df-convert');\n",
              "        buttonEl.style.display =\n",
              "          google.colab.kernel.accessAllowed ? 'block' : 'none';\n",
              "\n",
              "        async function convertToInteractive(key) {\n",
              "          const element = document.querySelector('#df-39336dfb-0eec-459f-bf95-5e0afadcfa4f');\n",
              "          const dataTable =\n",
              "            await google.colab.kernel.invokeFunction('convertToInteractive',\n",
              "                                                     [key], {});\n",
              "          if (!dataTable) return;\n",
              "\n",
              "          const docLinkHtml = 'Like what you see? Visit the ' +\n",
              "            '<a target=\"_blank\" href=https://colab.research.google.com/notebooks/data_table.ipynb>data table notebook</a>'\n",
              "            + ' to learn more about interactive tables.';\n",
              "          element.innerHTML = '';\n",
              "          dataTable['output_type'] = 'display_data';\n",
              "          await google.colab.output.renderOutput(dataTable, element);\n",
              "          const docLink = document.createElement('div');\n",
              "          docLink.innerHTML = docLinkHtml;\n",
              "          element.appendChild(docLink);\n",
              "        }\n",
              "      </script>\n",
              "    </div>\n",
              "  </div>\n",
              "  "
            ]
          },
          "metadata": {},
          "execution_count": 17
        }
      ]
    },
    {
      "cell_type": "code",
      "source": [
        "bekasi.info()"
      ],
      "metadata": {
        "id": "XTpge_tbXMpq",
        "outputId": "7ef0e04e-734b-4103-ffc3-5c4e46e7955b",
        "colab": {
          "base_uri": "https://localhost:8080/"
        }
      },
      "execution_count": null,
      "outputs": [
        {
          "output_type": "stream",
          "name": "stdout",
          "text": [
            "<class 'pandas.core.frame.DataFrame'>\n",
            "RangeIndex: 992 entries, 0 to 991\n",
            "Data columns (total 26 columns):\n",
            " #   Column       Non-Null Count  Dtype  \n",
            "---  ------       --------------  -----  \n",
            " 0   created_at   107 non-null    object \n",
            " 1   LT           107 non-null    float64\n",
            " 2   LB           107 non-null    float64\n",
            " 3   KT           107 non-null    float64\n",
            " 4   KM           106 non-null    float64\n",
            " 5   garasi       33 non-null     float64\n",
            " 6   carport      81 non-null     float64\n",
            " 7   lokasi       107 non-null    object \n",
            " 8   sertifikat   106 non-null    object \n",
            " 9   listrik      101 non-null    float64\n",
            " 10  hadap        48 non-null     object \n",
            " 11  harga        107 non-null    float64\n",
            " 12  URL          107 non-null    object \n",
            " 13  deskripsi    107 non-null    object \n",
            " 14  Unnamed: 14  0 non-null      float64\n",
            " 15  Unnamed: 15  0 non-null      float64\n",
            " 16  Unnamed: 16  0 non-null      float64\n",
            " 17  Unnamed: 17  0 non-null      float64\n",
            " 18  Unnamed: 18  0 non-null      float64\n",
            " 19  Unnamed: 19  0 non-null      float64\n",
            " 20  Unnamed: 20  0 non-null      float64\n",
            " 21  Unnamed: 21  0 non-null      float64\n",
            " 22  Unnamed: 22  0 non-null      float64\n",
            " 23  Unnamed: 23  0 non-null      float64\n",
            " 24  Unnamed: 24  0 non-null      float64\n",
            " 25  Unnamed: 25  0 non-null      float64\n",
            "dtypes: float64(20), object(6)\n",
            "memory usage: 201.6+ KB\n"
          ]
        }
      ]
    },
    {
      "cell_type": "code",
      "source": [
        "#Missing Value\n",
        "print('Jumlah Missing-Value pada Setiap Kolom:')\n",
        "print(bekasi.isnull().sum())\n",
        "\n",
        "print('\\nJumlah Missing-Value Total:')\n",
        "print(bekasi.isnull().sum().sum())"
      ],
      "metadata": {
        "colab": {
          "base_uri": "https://localhost:8080/"
        },
        "id": "idwYPO_XXdQs",
        "outputId": "af90645c-a530-42d8-e7b7-e8074556b0d2"
      },
      "execution_count": null,
      "outputs": [
        {
          "output_type": "stream",
          "name": "stdout",
          "text": [
            "Jumlah Missing-Value pada Setiap Kolom:\n",
            "created_at     885\n",
            "LT             885\n",
            "LB             885\n",
            "KT             885\n",
            "KM             886\n",
            "garasi         959\n",
            "carport        911\n",
            "lokasi         885\n",
            "sertifikat     886\n",
            "listrik        891\n",
            "hadap          944\n",
            "harga          885\n",
            "URL            885\n",
            "deskripsi      885\n",
            "Unnamed: 14    992\n",
            "Unnamed: 15    992\n",
            "Unnamed: 16    992\n",
            "Unnamed: 17    992\n",
            "Unnamed: 18    992\n",
            "Unnamed: 19    992\n",
            "Unnamed: 20    992\n",
            "Unnamed: 21    992\n",
            "Unnamed: 22    992\n",
            "Unnamed: 23    992\n",
            "Unnamed: 24    992\n",
            "Unnamed: 25    992\n",
            "dtype: int64\n",
            "\n",
            "Jumlah Missing-Value Total:\n",
            "24461\n"
          ]
        }
      ]
    },
    {
      "cell_type": "code",
      "source": [
        "#Menghapus Nilai NaN\n",
        "bekasi = bekasi.dropna()\n",
        "\n",
        "#cek ulang\n",
        "print('\\nJumlah Missing-Value Total:')\n",
        "print(bekasi.isnull().sum().sum())"
      ],
      "metadata": {
        "colab": {
          "base_uri": "https://localhost:8080/"
        },
        "id": "-iawZwz_X5ls",
        "outputId": "4fc728eb-577a-40c3-80e9-69ccefb7b0a9"
      },
      "execution_count": null,
      "outputs": [
        {
          "output_type": "stream",
          "name": "stdout",
          "text": [
            "\n",
            "Jumlah Missing-Value Total:\n",
            "0.0\n"
          ]
        }
      ]
    },
    {
      "cell_type": "code",
      "source": [
        "#cek duplikasi data\n",
        "bekasi.duplicated().sum()"
      ],
      "metadata": {
        "colab": {
          "base_uri": "https://localhost:8080/"
        },
        "id": "B_sMs6IWXy2b",
        "outputId": "048d1d97-b4f2-47c3-876a-924c068e8bfe"
      },
      "execution_count": null,
      "outputs": [
        {
          "output_type": "execute_result",
          "data": {
            "text/plain": [
              "0"
            ]
          },
          "metadata": {},
          "execution_count": 23
        }
      ]
    },
    {
      "cell_type": "code",
      "source": [
        "bekasi['created_at']=bekasi['created_at'].astype('category')\n",
        "bekasi['lokasi']=bekasi['lokasi'].astype('category')\n",
        "bekasi['sertifikat']=bekasi['sertifikat'].astype('category')\n",
        "bekasi['hadap']=bekasi['hadap'].astype('category')\n",
        "bekasi['URL']=bekasi['URL'].astype('category')\n",
        "bekasi['deskripsi']=bekasi['deskripsi'].astype('category')\n",
        "bekasi.dtypes"
      ],
      "metadata": {
        "colab": {
          "base_uri": "https://localhost:8080/"
        },
        "id": "wLNhzkwaYU2F",
        "outputId": "e9a3070d-e3af-4283-ef7a-353c905e9185"
      },
      "execution_count": null,
      "outputs": [
        {
          "output_type": "execute_result",
          "data": {
            "text/plain": [
              "created_at     category\n",
              "LT              float64\n",
              "LB              float64\n",
              "KT              float64\n",
              "KM              float64\n",
              "garasi          float64\n",
              "carport         float64\n",
              "lokasi         category\n",
              "sertifikat     category\n",
              "listrik         float64\n",
              "hadap          category\n",
              "harga           float64\n",
              "URL            category\n",
              "deskripsi      category\n",
              "Unnamed: 14     float64\n",
              "Unnamed: 15     float64\n",
              "Unnamed: 16     float64\n",
              "Unnamed: 17     float64\n",
              "Unnamed: 18     float64\n",
              "Unnamed: 19     float64\n",
              "Unnamed: 20     float64\n",
              "Unnamed: 21     float64\n",
              "Unnamed: 22     float64\n",
              "Unnamed: 23     float64\n",
              "Unnamed: 24     float64\n",
              "Unnamed: 25     float64\n",
              "dtype: object"
            ]
          },
          "metadata": {},
          "execution_count": 24
        }
      ]
    },
    {
      "cell_type": "markdown",
      "source": [
        "##Bogor"
      ],
      "metadata": {
        "id": "Dh0DcyNiW3-V"
      }
    },
    {
      "cell_type": "code",
      "source": [],
      "metadata": {
        "id": "W0X89mapW7An"
      },
      "execution_count": null,
      "outputs": []
    },
    {
      "cell_type": "markdown",
      "source": [
        "## **2.**"
      ],
      "metadata": {
        "id": "4E1imSPpSXxo"
      }
    },
    {
      "cell_type": "markdown",
      "source": [
        "Apakah ada saran perbaikan data ke DE/DBA perusahaan agar RPPI menjadi data driven company yang unggul.\n",
        "\n",
        "Sebaiknya data dapat lebih simpan dengan efisien agar mudah ketika diolah, seperti tipe data object diubah langsung menjadi category, kemudian penanganan missing values lebih ditingkatkan. Selain itu, terdapat kolom 14-25 yang tidak memiliki atribut apapun. Hal tersebut dapat memperlambat analisis data dikarenakan memori berlebih yang dibutuhkan."
      ],
      "metadata": {
        "id": "dgJ1MErpShNv"
      }
    },
    {
      "cell_type": "markdown",
      "source": [
        "## **3.**"
      ],
      "metadata": {
        "id": "GgugzQwtSdSB"
      }
    },
    {
      "cell_type": "markdown",
      "source": [
        "Dari data yang ada, apakah ada kecenderungan rumah disuatu kota lebih mahal/murah dibandingkan kota lain?"
      ],
      "metadata": {
        "id": "fEGKPfFASiI1"
      }
    },
    {
      "cell_type": "markdown",
      "source": [
        "## **4.**"
      ],
      "metadata": {
        "id": "SMtXdfT_SuU4"
      }
    },
    {
      "cell_type": "markdown",
      "source": [
        "Dari data yang ada, apakah bisa dibuat rekomendasi sebaiknya RPPI membuat kantor cabang berikutnya di kota mana? Mengapa? (Asumsikan RPPI belum memiliki cabang di kota-kota yang disebutkan di data)."
      ],
      "metadata": {
        "id": "E0Ct0resS1X8"
      }
    },
    {
      "cell_type": "code",
      "source": [],
      "metadata": {
        "id": "JMa8hX0YSxJe"
      },
      "execution_count": null,
      "outputs": []
    },
    {
      "cell_type": "code",
      "source": [
        "data=jakarta.set_index('')"
      ],
      "metadata": {
        "id": "JltC6ulATTei"
      },
      "execution_count": null,
      "outputs": []
    },
    {
      "cell_type": "code",
      "source": [
        "#Menggabungkan Dataframe Indo20, Indo21, Indo22\n",
        "gabung = tangerang.append(indo21)\n",
        "gabung = mob.append(indo22)"
      ],
      "metadata": {
        "id": "bpa7OSl8Tku3"
      },
      "execution_count": null,
      "outputs": []
    },
    {
      "cell_type": "code",
      "source": [
        "row=pd.concat([jakarta,tangerang])\n",
        "print(\"Row-wise-concat:\\n\",row)"
      ],
      "metadata": {
        "id": "cPySMR-UUuR8"
      },
      "execution_count": null,
      "outputs": []
    },
    {
      "cell_type": "code",
      "source": [],
      "metadata": {
        "id": "6DAQzyuUU3gg"
      },
      "execution_count": null,
      "outputs": []
    },
    {
      "cell_type": "markdown",
      "source": [],
      "metadata": {
        "id": "ZKGIqAKzYowY"
      }
    }
  ]
}